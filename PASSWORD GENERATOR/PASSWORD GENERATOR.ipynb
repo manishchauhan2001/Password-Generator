{
 "cells": [
  {
   "cell_type": "code",
   "execution_count": 49,
   "id": "698a81c2",
   "metadata": {},
   "outputs": [
    {
     "name": "stdout",
     "output_type": "stream",
     "text": [
      "Password Generator\n",
      "Enter the required length of the password: 15\n",
      "\n",
      "Generated Password: a?6gaKLYHJ<3YGL\n"
     ]
    }
   ],
   "source": [
    "import random\n",
    "import string\n",
    "\n",
    "def password_generator(length):\n",
    "    characters = string.ascii_letters + string.digits + string.punctuation\n",
    "    password = ''.join(random.choice(characters) for _ in range(length))\n",
    "    return password\n",
    "\n",
    "def main():\n",
    "    print(\"Password Generator\")\n",
    "    \n",
    "    try:\n",
    "        length = int(input(\"Enter the required length of the password: \"))\n",
    "    except ValueError:\n",
    "        print(\"Please enter a numerical value.\")\n",
    "        return\n",
    "    \n",
    "    if length <= 0:\n",
    "        print(\" Please enter a positive integer.\")\n",
    "        return\n",
    "    \n",
    "    password = generate_password(length)\n",
    "    \n",
    "    print(f\"\\nGenerated Password: {password}\")\n",
    "\n",
    "if __name__ == \"__main__\":\n",
    "    main()\n"
   ]
  },
  {
   "cell_type": "code",
   "execution_count": null,
   "id": "9cc908be",
   "metadata": {},
   "outputs": [],
   "source": []
  },
  {
   "cell_type": "code",
   "execution_count": null,
   "id": "fbc581a8",
   "metadata": {},
   "outputs": [],
   "source": []
  },
  {
   "cell_type": "code",
   "execution_count": null,
   "id": "72465cc1",
   "metadata": {},
   "outputs": [],
   "source": []
  }
 ],
 "metadata": {
  "kernelspec": {
   "display_name": "Python 3 (ipykernel)",
   "language": "python",
   "name": "python3"
  },
  "language_info": {
   "codemirror_mode": {
    "name": "ipython",
    "version": 3
   },
   "file_extension": ".py",
   "mimetype": "text/x-python",
   "name": "python",
   "nbconvert_exporter": "python",
   "pygments_lexer": "ipython3",
   "version": "3.9.12"
  }
 },
 "nbformat": 4,
 "nbformat_minor": 5
}
